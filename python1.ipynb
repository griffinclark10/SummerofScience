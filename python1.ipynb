{
 "cells": [
  {
   "cell_type": "code",
   "execution_count": null,
   "metadata": {},
   "outputs": [],
   "source": [
    "#if you have any questions, concerns or think that this was too fast, please email me @ griffin.clark@queensu.ca\n",
    "#If this class was advanced, please let us know and we can easily switch groups!"
   ]
  },
  {
   "cell_type": "code",
   "execution_count": null,
   "metadata": {},
   "outputs": [],
   "source": [
    "# <- allows us to write comments that don't show up in our code\n",
    "\n",
    "#variable = literal\n",
    "\n",
    "a = 10\n",
    "print(a)"
   ]
  },
  {
   "cell_type": "code",
   "execution_count": null,
   "metadata": {},
   "outputs": [],
   "source": [
    "#re-defining a gives the variable a new literal value\n",
    "# a is the variable\n",
    "a = \"The severed head of a sea slug can grow a whole new body.\"\n",
    "print(type(a))\n",
    "print(a)"
   ]
  },
  {
   "cell_type": "code",
   "execution_count": null,
   "metadata": {},
   "outputs": [],
   "source": [
    "#casting a variable to a different type\n",
    "a = 10\n",
    "print(float(a))\n",
    "b = 10.001\n",
    "print(int(b))\n",
    "c = 10\n",
    "str(c)"
   ]
  },
  {
   "cell_type": "code",
   "execution_count": null,
   "metadata": {},
   "outputs": [],
   "source": [
    "#cannot convert strings to floats or integers\n",
    "d = \"Goosebumps are meant to ward off predators.\"\n",
    "print(int(d))\n",
    "print(float(d))"
   ]
  },
  {
   "cell_type": "code",
   "execution_count": null,
   "metadata": {},
   "outputs": [],
   "source": [
    "#cannot declare a variable that starts with anything but a letter or an underscore\n",
    "_hi = 10\n",
    "1a = 10\n",
    "$young_money = 10"
   ]
  },
  {
   "cell_type": "code",
   "execution_count": null,
   "metadata": {},
   "outputs": [],
   "source": [
    "#These are strings\n",
    "print(\"\\'The heads on Easter Island have bodies.\\'\\n \")\n",
    "\n",
    "print('\\t You lose up to 30 percent of your taste buds during a flight.')\n",
    "\n",
    "print(\"\\n\")\n",
    "\n",
    "print(\"\"\"Only two mammals like spicy food: humans and the tree shrew.\n",
    "Rabbits can't puke.\n",
    "Copper door knobs are self-disinfecting.\n",
    "Marie Curie is the only person to earn a Nobel prize in two different sciences.\"\"\")"
   ]
  },
  {
   "cell_type": "code",
   "execution_count": null,
   "metadata": {},
   "outputs": [],
   "source": [
    "#these are integers (int)\n",
    "a = 2\n",
    "print(type(a))\n",
    "\n",
    "print(2)\n",
    "\n",
    "print(13943243423)\n",
    "\n",
    "print(12904820398401398432874129387574356287346501328475103)"
   ]
  },
  {
   "cell_type": "code",
   "execution_count": null,
   "metadata": {},
   "outputs": [],
   "source": [
    "#these are floats\n",
    "a = 100.\n",
    "print(type(a))\n",
    "print(a)\n",
    "\n",
    "b = 100.00000001\n",
    "print(b)\n",
    "\n",
    "c = 1000.00000233330000\n",
    "print(c)"
   ]
  },
  {
   "cell_type": "code",
   "execution_count": null,
   "metadata": {},
   "outputs": [],
   "source": [
    "#these are booleans\n",
    "a = True\n",
    "print(type(a))\n",
    "print(a)\n",
    "\n",
    "b = False\n",
    "print(b)\n",
    "\n",
    "c = true #gotta have captial T and F (unlike other languages)\n",
    "print(c)"
   ]
  },
  {
   "cell_type": "markdown",
   "metadata": {},
   "source": [
    "Basic Math in Python"
   ]
  },
  {
   "cell_type": "code",
   "execution_count": null,
   "metadata": {},
   "outputs": [],
   "source": [
    "a = 8\n",
    "b = 42\n",
    "\n",
    "#addition\n",
    "print(a, \" + \", a, \"equals\", a+a)\n",
    "\n",
    "#subtraction\n",
    "print(a, \" - \", b, \"equals\", a-b)\n",
    "\n",
    "#Multiplication\n",
    "print(b, \" x \", b, \"equals\", b*b)\n",
    "\n",
    "#division\n",
    "print(b, \" / \", a, \"equals\", b/a)\n",
    "\n",
    "#modulus\n",
    "print(b, \" % \", a, \"equals\", b%a)\n",
    "\n",
    "#exponential\n",
    "print(b,\"exp\", a, \"equals\", b**a)"
   ]
  },
  {
   "cell_type": "code",
   "execution_count": null,
   "metadata": {},
   "outputs": [],
   "source": [
    "#Other Useful operations\n",
    "a = 12\n",
    "b = 16\n",
    "\n",
    "#Boolean Operations\n",
    "print(a==b) #is equal to (comparison)\n",
    "print(a<=b) #less or equal to\n",
    "print(a>=b) #greater or equal to\n",
    "print(a!=b) #not equal to\n",
    "\n",
    "#math done quick\n",
    "c = 10\n",
    "c+=b #c = c+b\n",
    "print(c)\n",
    "\n",
    "c-=a #c = c-a\n",
    "print(c)\n",
    "\n",
    "c/=c\n",
    "print(c) #becomes float when you divide\n",
    "\n",
    "c*=b\n",
    "print(c) #stays a float (lol)"
   ]
  },
  {
   "cell_type": "markdown",
   "metadata": {},
   "source": [
    "Importing Modules/Packages"
   ]
  },
  {
   "cell_type": "code",
   "execution_count": null,
   "metadata": {},
   "outputs": [],
   "source": [
    "#without numpy imported, python doesn't know basic mathematical constants like pi and e\n",
    "print(pi)\n",
    "print(e)"
   ]
  },
  {
   "cell_type": "code",
   "execution_count": null,
   "metadata": {},
   "outputs": [],
   "source": [
    "#To fix this, we can either import the entire module or just certain parts\n",
    "import numpy as np #all of numpy is imported and able to be accessed as np.*\n",
    "print(np.e)"
   ]
  },
  {
   "cell_type": "code",
   "execution_count": null,
   "metadata": {},
   "outputs": [],
   "source": [
    "from numpy import * #imports all of numpy\n",
    "print(pi)"
   ]
  },
  {
   "cell_type": "code",
   "execution_count": null,
   "metadata": {},
   "outputs": [],
   "source": [
    "from numpy import e, pi, sin, cos\n",
    "print(sin(pi))\n",
    "print(round(sin(pi), 1)) #rounds the answer to 1 decimal place\n",
    "print(round(e, 5))"
   ]
  },
  {
   "cell_type": "code",
   "execution_count": null,
   "metadata": {},
   "outputs": [],
   "source": [
    "#useful import, very useful for plotting\n",
    "import matplotlib.pyplot as plt"
   ]
  },
  {
   "cell_type": "markdown",
   "metadata": {},
   "source": [
    "Functions and Recursion"
   ]
  },
  {
   "cell_type": "code",
   "execution_count": 2,
   "metadata": {},
   "outputs": [
    {
     "data": {
      "text/plain": [
       "4"
      ]
     },
     "execution_count": 2,
     "metadata": {},
     "output_type": "execute_result"
    }
   ],
   "source": [
    "def functionName(arg1, arg2):\n",
    "    value = arg1+arg2\n",
    "    return value\n",
    "\n",
    "functionName(1,3)"
   ]
  },
  {
   "cell_type": "code",
   "execution_count": 3,
   "metadata": {},
   "outputs": [
    {
     "data": {
      "text/plain": [
       "(30423, 925558929, 28158279296967)"
      ]
     },
     "execution_count": 3,
     "metadata": {},
     "output_type": "execute_result"
    }
   ],
   "source": [
    "def listexample(input):\n",
    "    num = input\n",
    "    numsquared = num*input\n",
    "    numcubed = numsquared*input\n",
    "    return num, numsquared, numcubed\n",
    "\n",
    "#(number, number squared, number cubed) = listexample(num)\n",
    "listexample(30423)"
   ]
  },
  {
   "cell_type": "code",
   "execution_count": 4,
   "metadata": {},
   "outputs": [
    {
     "name": "stdout",
     "output_type": "stream",
     "text": [
      "0.0\n",
      "15.91\n"
     ]
    }
   ],
   "source": [
    "def function(a, b, c=10, d=0): #preset values for better adaptability\n",
    "    return ((a+b/c))*d\n",
    "\n",
    "print(function(12,43))\n",
    "print(round(function(12,43,11,1),2))"
   ]
  },
  {
   "cell_type": "code",
   "execution_count": 5,
   "metadata": {},
   "outputs": [
    {
     "name": "stdout",
     "output_type": "stream",
     "text": [
      "The name of all the continents end with the same letter that they start with.\n"
     ]
    }
   ],
   "source": [
    "fact = \"Fingernails don't grow after you die.\"\n",
    "def facts():\n",
    "    global fact\n",
    "    fact = \"The name of all the continents end with the same letter that they start with.\"\n",
    "    return #return nothing, function just needs return statement\n",
    "facts() #excecute the function\n",
    "print(fact)"
   ]
  },
  {
   "cell_type": "code",
   "execution_count": 6,
   "metadata": {},
   "outputs": [
    {
     "name": "stdout",
     "output_type": "stream",
     "text": [
      "120\n"
     ]
    }
   ],
   "source": [
    "def factorial(n):\n",
    "    if n<=1:\n",
    "        return 1\n",
    "    else:\n",
    "        return n*factorial(n-1)\n",
    "print(factorial(5))"
   ]
  },
  {
   "cell_type": "markdown",
   "metadata": {},
   "source": [
    "Conditionals"
   ]
  },
  {
   "cell_type": "code",
   "execution_count": null,
   "metadata": {},
   "outputs": [],
   "source": [
    "a = True\n",
    "if a:\n",
    "    print(\"The English word with the most definitions is \\\"set.\\\"\")\n",
    "    \n",
    "b = False\n",
    "if (b): #can use with or without parentheses\n",
    "    print(\"Space smells like seared steak.\")"
   ]
  },
  {
   "cell_type": "code",
   "execution_count": null,
   "metadata": {},
   "outputs": [],
   "source": [
    "a = 11\n",
    "if a == 10:\n",
    "    print(\"The longest wedding veil was the same length as 63.5 football fields\")\n",
    "elif a == 11: #else if = elif\n",
    "    print(\"The unicorn is the national animal of Scotland.\")\n",
    "else:\n",
    "    print(\"\\\"E\\\" is the most common letter and appears in 11 percent of all english words.\")"
   ]
  },
  {
   "cell_type": "code",
   "execution_count": null,
   "metadata": {},
   "outputs": [],
   "source": [
    "#single line if statement:\n",
    "print(\"hello\") if 2>4 else print(\"bye\")"
   ]
  },
  {
   "cell_type": "code",
   "execution_count": null,
   "metadata": {},
   "outputs": [],
   "source": []
  },
  {
   "cell_type": "code",
   "execution_count": 1,
   "metadata": {},
   "outputs": [],
   "source": []
  },
  {
   "cell_type": "code",
   "execution_count": null,
   "metadata": {},
   "outputs": [],
   "source": []
  }
 ],
 "metadata": {
  "kernelspec": {
   "display_name": "Python 3",
   "language": "python",
   "name": "python3"
  },
  "language_info": {
   "codemirror_mode": {
    "name": "ipython",
    "version": 3
   },
   "file_extension": ".py",
   "mimetype": "text/x-python",
   "name": "python",
   "nbconvert_exporter": "python",
   "pygments_lexer": "ipython3",
   "version": "3.8.3"
  }
 },
 "nbformat": 4,
 "nbformat_minor": 4
}
