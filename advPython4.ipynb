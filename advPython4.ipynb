{
 "cells": [
  {
   "cell_type": "code",
   "execution_count": null,
   "metadata": {},
   "outputs": [],
   "source": [
    "# Creating a file \n",
    "file1 = open(\"newfile.txt\", \"w\") #create a new file to write only\n",
    "L = [\"Whale songs can be used to map out the ocean floor. \\n\", \"Dentistry is the oldest profession in the world. \\n\", \"The entire world's population could fit inside Los Angeles. \\n\"] \n",
    "    \n",
    "# Writing data to a file \n",
    "file1.write(\"Cool Factz: \\n\")  \n",
    "file1.writelines(L) \n",
    "file1.close()  # to change file access modes "
   ]
  },
  {
   "cell_type": "code",
   "execution_count": null,
   "metadata": {},
   "outputs": [],
   "source": [
    "file1 = open(\"newfile.txt\", \"r+\") \n",
    "    \n",
    "print(\"Output of Read function is \") \n",
    "print(file1.read()) #read entire \n",
    "print() \n",
    "    \n",
    "# seek(n) takes the file handle to the nth \n",
    "# bite from the beginning.  \n",
    "file1.seek(0) \n",
    "    \n",
    "print(\"Output of Readline function is \") \n",
    "print(file1.readline()) \n",
    "print() #reads first line\n",
    "    \n",
    "file1.seek(0) \n",
    "    \n",
    "# To show difference between read and readline  \n",
    "print(\"Output of Read(9) function is \") \n",
    "print(file1.read(9)) #reads first 9 bytes\n",
    "print() \n",
    "    \n",
    "file1.seek(0) \n",
    "    \n",
    "print(\"Output of Readline(9) function is \") \n",
    "print(file1.readline(9)) read first 9 bytes of the first line\n",
    "print() \n",
    "    \n",
    "file1.seek(0) \n",
    "    \n",
    "# readlines function  \n",
    "print(\"Output of Readlines function is \") \n",
    "print(file1.readlines()) #reads all lines and returns each line as a list\n",
    "print() \n",
    "file1.close() "
   ]
  },
  {
   "cell_type": "code",
   "execution_count": null,
   "metadata": {},
   "outputs": [],
   "source": [
    "import pandas as pd\n",
    "hr = pd.read_csv(\"HR_Diagram.csv\")\n",
    "print(hr.columns)\n",
    "hr"
   ]
  },
  {
   "cell_type": "markdown",
   "metadata": {},
   "source": [
    "## Classes"
   ]
  },
  {
   "cell_type": "code",
   "execution_count": null,
   "metadata": {},
   "outputs": [],
   "source": [
    "class MyNewClass:\n",
    "    '''This is a docstring. I have created a new class''' #accessed by __doc__\n",
    "    pass #just like in the if statements"
   ]
  },
  {
   "cell_type": "code",
   "execution_count": null,
   "metadata": {},
   "outputs": [],
   "source": [
    "class Person:\n",
    "    \"This is a person class\"\n",
    "    age = 20\n",
    "    name = \"Griffin\"\n",
    "\n",
    "    def greet(self): #needs to be part of the method\n",
    "        print('Hello', name) #add self.name for next\n",
    "\n",
    "\n",
    "\n",
    "print(\"Person.age:\",Person.age, \"\\n\")\n",
    "print(Person.name, \"is\", Person.age, \"years old \\n\")\n",
    "print(\"Person.greet:\",Person.greet, \"\\n\")\n",
    "print(\"Person.__doc__:\",Person.__doc__)"
   ]
  },
  {
   "cell_type": "code",
   "execution_count": null,
   "metadata": {},
   "outputs": [],
   "source": [
    "# create a new object of Person class\n",
    "james = Person()\n",
    "james.name = \"James\"\n",
    "\n",
    "# Calling object's greet() method\n",
    "# Output: Hello\n",
    "james.greet()"
   ]
  },
  {
   "cell_type": "code",
   "execution_count": null,
   "metadata": {},
   "outputs": [],
   "source": [
    "# Class for City\n",
    "class City:\n",
    "    \"\"\"\n",
    "    This class is used to make cities objects\n",
    "    \"\"\"\n",
    "    # Class Variable\n",
    "    location = 'city'            \n",
    "   \n",
    "    # The init method or constructor\n",
    "    def __init__(self, country, population):\n",
    "     \n",
    "        # Instance Variable    \n",
    "        self.country = country\n",
    "        self.population = population       \n",
    "    \n",
    "# Objects of City class\n",
    "istambul = City(\"Turkey\", 15460000)\n",
    "melbourne = City(\"Australia\", 5078000)\n",
    "shanghai = City(\"China\", 26320000)\n",
    "\n",
    "print(__doc__, \"\\n\")\n",
    " \n",
    "print('Istambul details:')  \n",
    "print('Istambul is a', istambul.location)\n",
    "print('Country: ', istambul.country)\n",
    "print('Population: ', istambul.population)\n",
    " \n",
    "print('\\nMelbourne details:')  \n",
    "print('Melbourne is a', melbourne.location)\n",
    "print('Country: ', melbourne.country)\n",
    "print('Population: ', melbourne.population)\n",
    "\n",
    "print('\\nShanghai details:')  \n",
    "print('Shanghai is a', shanghai.location)\n",
    "print('Country: ', shanghai.country)\n",
    "print('Population: ', shanghai.population)\n",
    " \n",
    "# Class variables can be accessed using class\n",
    "# name also\n",
    "print(\"\\nAccessing class variable using class name\")\n",
    "print(City.location)"
   ]
  },
  {
   "cell_type": "code",
   "execution_count": null,
   "metadata": {},
   "outputs": [],
   "source": [
    "del melbourne.population\n",
    "\n",
    "print('\\nMelbourne details:')  \n",
    "print('Melbourne is a', melbourne.location)\n",
    "print('Country: ', melbourne.country)\n",
    "print('Population: ', melbourne.population)"
   ]
  },
  {
   "cell_type": "code",
   "execution_count": null,
   "metadata": {},
   "outputs": [],
   "source": [
    "del shanghai\n",
    "\n",
    "print(shanghai.location)"
   ]
  },
  {
   "cell_type": "code",
   "execution_count": null,
   "metadata": {},
   "outputs": [],
   "source": []
  }
 ],
 "metadata": {
  "kernelspec": {
   "display_name": "Python 3",
   "language": "python",
   "name": "python3"
  },
  "language_info": {
   "codemirror_mode": {
    "name": "ipython",
    "version": 3
   },
   "file_extension": ".py",
   "mimetype": "text/x-python",
   "name": "python",
   "nbconvert_exporter": "python",
   "pygments_lexer": "ipython3",
   "version": "3.8.3"
  }
 },
 "nbformat": 4,
 "nbformat_minor": 4
}
