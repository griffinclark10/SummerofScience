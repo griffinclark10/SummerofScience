{
 "cells": [
  {
   "cell_type": "code",
   "execution_count": 25,
   "metadata": {},
   "outputs": [],
   "source": [
    "#!/usr/bin/env python\n",
    "import numpy as np \n",
    "import matplotlib.pyplot as plt \n",
    "import matplotlib.animation as animation \n",
    "from astropy.time import Time\n",
    "from astroquery.jplhorizons import Horizons"
   ]
  },
  {
   "cell_type": "code",
   "execution_count": 33,
   "metadata": {},
   "outputs": [],
   "source": [
    "sim_start_date = \"2016-01-01\" \n",
    "sim_duration = 5 * 365 \n",
    "m_earth = 5.9722e24 / 1.98847e30  "
   ]
  },
  {
   "cell_type": "code",
   "execution_count": 34,
   "metadata": {},
   "outputs": [],
   "source": [
    "class Object:  \n",
    "    def __init__(self, name, rad, color, r, v):\n",
    "        self.name = name \n",
    "        self.r    = np.array(r, dtype=np.float) \n",
    "        self.v    = np.array(v, dtype=np.float)\n",
    "        self.xs = []\n",
    "        self.ys = []\n",
    "        self.plot = ax.scatter(r[0], r[1], color=color, s=rad**2, edgecolors=None, zorder=10)\n",
    "        self.line, = ax.plot([], [], color=color, linewidth=1.4)"
   ]
  },
  {
   "cell_type": "code",
   "execution_count": 35,
   "metadata": {},
   "outputs": [],
   "source": [
    "class SolarSystem:\n",
    "    def __init__(self, thesun):\n",
    "        self.thesun = thesun\n",
    "        self.planets = []\n",
    "        self.time = None\n",
    "        self.timestamp = ax.text(.03, .94, 'Date: ', color='w', transform=ax.transAxes, fontsize='x-large')\n",
    "    def add_planet(self, planet):\n",
    "        self.planets.append(planet)\n",
    "    def evolve(self):\n",
    "        dt = 1.0\n",
    "        self.time += dt\n",
    "        plots = []\n",
    "        lines = []\n",
    "        for p in self.planets:\n",
    "            p.r += p.v * dt\n",
    "            acc = -2.959e-4 * p.r / np.sum(p.r**2)**(3./2)\n",
    "            p.v += acc * dt\n",
    "            p.xs.append(p.r[0])\n",
    "            p.ys.append(p.r[1])\n",
    "            p.plot.set_offsets(p.r[:2])\n",
    "            p.line.set_xdata(p.xs)\n",
    "            p.line.set_ydata(p.ys)\n",
    "            plots.append(p.plot)\n",
    "            lines.append(p.line)\n",
    "        self.timestamp.set_text('Date: ' + Time(self.time, format='jd', out_subfmt='date').iso)\n",
    "        return plots + lines + [self.timestamp]"
   ]
  },
  {
   "cell_type": "code",
   "execution_count": 37,
   "metadata": {},
   "outputs": [
    {
     "data": {
      "image/png": "[encoded data removed]",
      "text/plain": [
       "<Figure size 432x432 with 1 Axes>"
      ]
     },
     "metadata": {},
     "output_type": "display_data"
    }
   ],
   "source": [
    "plt.style.use('dark_background')\n",
    "fig = plt.figure(figsize=[6, 6])\n",
    "ax = plt.axes([0., 0., 1., 1.], xlim=(-1.8, 1.8), ylim=(-1.8, 1.8))\n",
    "ax.set_aspect('equal')\n",
    "ax.axis('off')\n",
    "ss = SolarSystem(Object(\"Sun\", 28, 'red', [0, 0, 0], [0, 0, 0]))\n",
    "ss.time = Time(sim_start_date).jd\n",
    "colors = ['gray', 'orange', 'blue', 'chocolate']\n",
    "sizes = [0.38, 0.95, 1., 0.53]\n",
    "names = ['Mercury', 'Venus', 'Earth', 'Mars']\n",
    "texty = [.47, .73, 1, 1.5]\n",
    "\n",
    "for i, nasaid in enumerate([1, 2, 3, 4]):  # The 1st, 2nd, 3rd, 4th planet in solar system\n",
    "    obj = Horizons(id=nasaid, location=\"@sun\", epochs=ss.time, id_type='id').vectors()\n",
    "    ss.add_planet(Object(nasaid, 20 * sizes[i], colors[i], \n",
    "                         [np.double(obj[xi]) for xi in ['x', 'y', 'z']], \n",
    "                         [np.double(obj[vxi]) for vxi in ['vx', 'vy', 'vz']]))\n",
    "    ax.text(0, - (texty[i] + 0.1), names[i], color=colors[i], zorder=1000, ha='center', fontsize='medium')\n",
    "\n",
    "def animate(i):\n",
    "    return ss.evolve()\n",
    "ani = animation.FuncAnimation(fig, animate, repeat=False, frames=sim_duration, blit=True, interval=20,)\n",
    "plt.show()"
   ]
  },
  {
   "cell_type": "code",
   "execution_count": null,
   "metadata": {},
   "outputs": [],
   "source": []
  },
  {
   "cell_type": "code",
   "execution_count": 30,
   "metadata": {},
   "outputs": [],
   "source": []
  },
  {
   "cell_type": "code",
   "execution_count": null,
   "metadata": {},
   "outputs": [],
   "source": []
  },
  {
   "cell_type": "code",
   "execution_count": null,
   "metadata": {},
   "outputs": [],
   "source": []
  }
 ],
 "metadata": {
  "kernelspec": {
   "display_name": "Python 3",
   "language": "python",
   "name": "python3"
  },
  "language_info": {
   "codemirror_mode": {
    "name": "ipython",
    "version": 3
   },
   "file_extension": ".py",
   "mimetype": "text/x-python",
   "name": "python",
   "nbconvert_exporter": "python",
   "pygments_lexer": "ipython3",
   "version": "3.8.3"
  }
 },
 "nbformat": 4,
 "nbformat_minor": 4
}
