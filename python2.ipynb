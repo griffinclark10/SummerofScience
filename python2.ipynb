{
 "cells": [
  {
   "cell_type": "code",
   "execution_count": 1,
   "metadata": {},
   "outputs": [],
   "source": [
    "#Examples that follow the 2nd advanced python ppt (July 13th)"
   ]
  },
  {
   "cell_type": "markdown",
   "metadata": {},
   "source": [
    "## Conditionals"
   ]
  },
  {
   "cell_type": "code",
   "execution_count": null,
   "metadata": {},
   "outputs": [],
   "source": [
    "a = True\n",
    "if a:\n",
    "    print(\"The English word with the most definitions is \\\"set.\\\"\")\n",
    "    \n",
    "b = False\n",
    "if (b): #can use with or without parentheses\n",
    "    print(\"Space smells like seared steak.\")"
   ]
  },
  {
   "cell_type": "code",
   "execution_count": null,
   "metadata": {},
   "outputs": [],
   "source": [
    "a = 11\n",
    "if a == 10:\n",
    "    print(\"The longest wedding veil was the same length as 63.5 football fields\")\n",
    "elif a == 11: #else if = elif\n",
    "    print(\"The unicorn is the national animal of Scotland.\")\n",
    "else:\n",
    "    print(\"\\\"E\\\" is the most common letter and appears in 11 percent of all english words.\")"
   ]
  },
  {
   "cell_type": "code",
   "execution_count": null,
   "metadata": {},
   "outputs": [],
   "source": [
    "#single line if statement:\n",
    "print(\"hello\") if 2>4 else print(\"bye\")"
   ]
  },
  {
   "cell_type": "code",
   "execution_count": null,
   "metadata": {},
   "outputs": [],
   "source": [
    "#using \"and\" & \"or\"\n",
    "a = 27\n",
    "b = True\n",
    "if a>30 and b:\n",
    "    print(\"Abraham Lincoln's bodyguard left his post at Ford's Theatre to go for a drink.\")\n",
    "    \n",
    "if a>30 or b: \n",
    "    print(\"Dolphins have been trained to be used in wars.\")"
   ]
  },
  {
   "cell_type": "code",
   "execution_count": 5,
   "metadata": {},
   "outputs": [
    {
     "name": "stdout",
     "output_type": "stream",
     "text": [
      "You have enough iron in your blood to create a nail.\n"
     ]
    }
   ],
   "source": [
    "#Nested if statement\n",
    "if a == 27:\n",
    "    print(\"You have enough iron in your blood to create a nail.\")\n",
    "    if b == False:\n",
    "        print(\"Redheads aren't actually going extinct.\")\n",
    "    elif b: \n",
    "        pass \n",
    "    else: #since b == True, the loop doesn't print our the kidney stone line\n",
    "        print(\"Riding a roller coaster could help you pass a kidney stone.\")\n",
    "else:\n",
    "    print(\"Sea lions can dance to a beat.\")"
   ]
  },
  {
   "cell_type": "markdown",
   "metadata": {},
   "source": [
    "## Arrays, Lists, Dictionaries"
   ]
  },
  {
   "cell_type": "code",
   "execution_count": 12,
   "metadata": {},
   "outputs": [
    {
     "name": "stdout",
     "output_type": "stream",
     "text": [
      "['Scream', 12, 22.555, 'g']\n",
      "['Scream', 12, 22.555, 'g', 'The Shining']\n",
      "the first value of the list is  Scream  and the last value is  The Shining\n",
      "5\n"
     ]
    }
   ],
   "source": [
    "#Lists\n",
    "randomList = [\"Scream\", 12, 22.555, 'g']\n",
    "print(randomList)\n",
    "\n",
    "#add to list\n",
    "randomList.append(\"The Shining\")\n",
    "print(randomList)\n",
    "\n",
    "#accessing values\n",
    "firstVal = randomList[0]\n",
    "lastVal = randomList[4]\n",
    "print(\"the first value of the list is \", firstVal, \" and the last value is \", lastVal)\n",
    "\n",
    "#length of the list\n",
    "print(len(randomList))"
   ]
  },
  {
   "cell_type": "code",
   "execution_count": 23,
   "metadata": {},
   "outputs": [
    {
     "ename": "TypeError",
     "evalue": "array() argument 1 must be a unicode character, not list",
     "output_type": "error",
     "traceback": [
      "\u001b[0;31m---------------------------------------------------------------------------\u001b[0m",
      "\u001b[0;31mTypeError\u001b[0m                                 Traceback (most recent call last)",
      "\u001b[0;32m<ipython-input-23-2633e63e848a>\u001b[0m in \u001b[0;36m<module>\u001b[0;34m\u001b[0m\n\u001b[1;32m      3\u001b[0m \u001b[0;34m\u001b[0m\u001b[0m\n\u001b[1;32m      4\u001b[0m \u001b[0;31m#need to specify the type\u001b[0m\u001b[0;34m\u001b[0m\u001b[0;34m\u001b[0m\u001b[0;34m\u001b[0m\u001b[0m\n\u001b[0;32m----> 5\u001b[0;31m \u001b[0mnewArray\u001b[0m \u001b[0;34m=\u001b[0m \u001b[0marr\u001b[0m\u001b[0;34m.\u001b[0m\u001b[0marray\u001b[0m\u001b[0;34m(\u001b[0m\u001b[0;34m[\u001b[0m\u001b[0;36m2\u001b[0m\u001b[0;34m,\u001b[0m \u001b[0;36m43\u001b[0m\u001b[0;34m,\u001b[0m \u001b[0;36m244\u001b[0m\u001b[0;34m,\u001b[0m \u001b[0;36m43\u001b[0m\u001b[0;34m,\u001b[0m \u001b[0;36m27\u001b[0m\u001b[0;34m,\u001b[0m \u001b[0;36m9439\u001b[0m\u001b[0;34m]\u001b[0m\u001b[0;34m)\u001b[0m\u001b[0;34m\u001b[0m\u001b[0;34m\u001b[0m\u001b[0m\n\u001b[0m\u001b[1;32m      6\u001b[0m \u001b[0mnewArray\u001b[0m\u001b[0;34m.\u001b[0m\u001b[0mappend\u001b[0m\u001b[0;34m(\u001b[0m\u001b[0;36m54\u001b[0m\u001b[0;34m)\u001b[0m\u001b[0;34m\u001b[0m\u001b[0;34m\u001b[0m\u001b[0m\n\u001b[1;32m      7\u001b[0m \u001b[0mprint\u001b[0m\u001b[0;34m(\u001b[0m\u001b[0mnewArray\u001b[0m\u001b[0;34m)\u001b[0m\u001b[0;34m\u001b[0m\u001b[0;34m\u001b[0m\u001b[0m\n",
      "\u001b[0;31mTypeError\u001b[0m: array() argument 1 must be a unicode character, not list"
     ]
    }
   ],
   "source": [
    "import array as arr\n",
    "\n",
    "#need to specify the type\n",
    "newArray = arr.array([2, 43, 244, 43, 27, 9439])\n",
    "newArray.append(54)\n",
    "print(newArray)\n",
    "newArray.append(33.2)\n",
    "print(newArray)"
   ]
  },
  {
   "cell_type": "code",
   "execution_count": 33,
   "metadata": {},
   "outputs": [
    {
     "name": "stdout",
     "output_type": "stream",
     "text": [
      "[1. 2. 3. 4. 5.]\n"
     ]
    }
   ],
   "source": [
    "import numpy as np\n",
    "npArray = np.array([45, \"It Follows\", 72.3, 88]) #can use multiple types\n",
    "npArray2 = np.array([3, 6, 9, 12, 15])\n",
    "print(npArray2/3)"
   ]
  },
  {
   "cell_type": "code",
   "execution_count": 36,
   "metadata": {},
   "outputs": [
    {
     "name": "stdout",
     "output_type": "stream",
     "text": [
      "['hereditary' 'It Follows' '72.3' '88']\n",
      "[ 0  1  2  3  4  5  6  7  8  9 10 11 12 13 14 15 16 17 18 19]\n",
      "[10 15 20 25 30 35 40 45]\n"
     ]
    }
   ],
   "source": [
    "#more actions\n",
    "#cannot edit length of numpy arrays once they are decleared, but the values can be edited\n",
    "npArray[0] = \"hereditary\"\n",
    "print(npArray)\n",
    "\n",
    "#arange --- arange(finish) or arange(start, finish, space between)\n",
    "\n",
    "array = np.arange(20)\n",
    "print(array)\n",
    "array2 = np.arange(10, 50, 5)\n",
    "print(array2)"
   ]
  },
  {
   "cell_type": "code",
   "execution_count": 43,
   "metadata": {},
   "outputs": [
    {
     "name": "stdout",
     "output_type": "stream",
     "text": [
      "[[[ 0  1  2]\n",
      "  [ 3  4  5]\n",
      "  [ 6  7  8]]\n",
      "\n",
      " [[ 9 10 11]\n",
      "  [12 13 14]\n",
      "  [15 16 17]]\n",
      "\n",
      " [[18 19 20]\n",
      "  [21 22 23]\n",
      "  [24 25 26]]]\n",
      "\n",
      " shape: (3, 3, 3)\n"
     ]
    }
   ],
   "source": [
    "#multiple dimensions\n",
    "array2D = np.arange(27).reshape(3,3,3)\n",
    "print(array2D)\n",
    "print(\"\\n shape:\",array2D.shape)"
   ]
  },
  {
   "cell_type": "code",
   "execution_count": 53,
   "metadata": {},
   "outputs": [
    {
     "name": "stdout",
     "output_type": "stream",
     "text": [
      "[0. 0. 0. 0. 0. 0. 0. 0. 0. 0.] \n",
      "\n",
      "[[1. 1. 1. 1.]\n",
      " [1. 1. 1. 1.]] \n",
      "\n",
      "[[-2.31584178e+077 -1.29073615e-231  1.48219694e-323]\n",
      " [ 0.00000000e+000  0.00000000e+000  4.17201348e-309]] \n",
      "\n",
      "[[44.3 44.3]\n",
      " [44.3 44.3]]\n"
     ]
    }
   ],
   "source": [
    "#Quick Fill\n",
    "print(np.zeros(10), \"\\n\")\n",
    "\n",
    "print(np.ones((2,4)), \"\\n\")\n",
    "\n",
    "print(np.empty((2,3)), \"\\n\")\n",
    "\n",
    "print(np.full((2,2), 44.3))"
   ]
  },
  {
   "cell_type": "markdown",
   "metadata": {},
   "source": [
    "Loops"
   ]
  },
  {
   "cell_type": "code",
   "execution_count": 57,
   "metadata": {},
   "outputs": [
    {
     "name": "stdout",
     "output_type": "stream",
     "text": [
      "6\n",
      "12\n",
      "7\n",
      "14\n",
      "9\n",
      "18\n",
      "11\n",
      "22\n"
     ]
    }
   ],
   "source": [
    "#iterate over a list\n",
    "primes = [2, 3, 5, 7]\n",
    "for prime in primes:\n",
    "    prime += 4\n",
    "    print(prime)\n",
    "    prime *= 2\n",
    "    print(prime)"
   ]
  },
  {
   "cell_type": "code",
   "execution_count": 60,
   "metadata": {},
   "outputs": [
    {
     "name": "stdout",
     "output_type": "stream",
     "text": [
      "0\n",
      "1\n",
      "2\n",
      "3\n",
      "4\n",
      "\n",
      "\n",
      "3\n",
      "4\n",
      "5\n",
      "\n",
      "\n",
      "3\n",
      "5\n",
      "7\n"
     ]
    }
   ],
   "source": [
    "for x in range(5):\n",
    "    print(x)\n",
    "print(\"\\n\")\n",
    "\n",
    "for x in range(3, 6):\n",
    "    print(x)\n",
    "print(\"\\n\")\n",
    "\n",
    "for x in range(3, 8, 2):\n",
    "    print(x)"
   ]
  },
  {
   "cell_type": "code",
   "execution_count": 61,
   "metadata": {},
   "outputs": [
    {
     "name": "stdout",
     "output_type": "stream",
     "text": [
      "0\n",
      "1\n",
      "2\n",
      "3\n",
      "4\n"
     ]
    }
   ],
   "source": [
    "#while *condition*\n",
    "count = 0\n",
    "while count < 5:\n",
    "    print(count)\n",
    "    count += 1  "
   ]
  },
  {
   "cell_type": "code",
   "execution_count": 63,
   "metadata": {},
   "outputs": [
    {
     "name": "stdout",
     "output_type": "stream",
     "text": [
      "0\n",
      "1\n",
      "2\n",
      "3\n",
      "4\n",
      "\n",
      "\n",
      "1\n",
      "3\n",
      "5\n",
      "7\n",
      "9\n"
     ]
    }
   ],
   "source": [
    "#using break and continue\n",
    "count = 0\n",
    "while True:\n",
    "    print(count)\n",
    "    count += 1\n",
    "    if count >= 5:\n",
    "        break\n",
    "print(\"\\n\")\n",
    "\n",
    "# Prints out only odd numbers - 1,3,5,7,9\n",
    "for x in range(10):\n",
    "    # Check if x is even\n",
    "    if x % 2 == 0:\n",
    "        continue\n",
    "    print(x)"
   ]
  },
  {
   "cell_type": "code",
   "execution_count": 66,
   "metadata": {},
   "outputs": [
    {
     "name": "stdout",
     "output_type": "stream",
     "text": [
      "0\n",
      "1\n",
      "2\n",
      "3\n",
      "4\n",
      "count value reached 5\n",
      "1\n",
      "2\n",
      "3\n",
      "4\n"
     ]
    }
   ],
   "source": [
    "#using \"else\" in for loops\n",
    "count=0\n",
    "while(count<5):\n",
    "    print(count)\n",
    "    count +=1\n",
    "else:\n",
    "    print(\"count value reached\" %(count))\n",
    "\n",
    "# Prints out 1,2,3,4\n",
    "for i in range(1, 10):\n",
    "    if(i%5==0):\n",
    "        break\n",
    "    print(i)\n",
    "else:\n",
    "    print(\"this is not printed because for loop is terminated because of break but not due to fail in condition\")"
   ]
  },
  {
   "cell_type": "markdown",
   "metadata": {},
   "source": [
    "User and file interactions"
   ]
  },
  {
   "cell_type": "code",
   "execution_count": null,
   "metadata": {},
   "outputs": [],
   "source": [
    "#user input\n",
    "x = input(\"What is your favourite song? \")\n",
    "print(x, \"is a banger !!!!!!\")"
   ]
  },
  {
   "cell_type": "markdown",
   "metadata": {},
   "source": [
    "## File Intput/Output"
   ]
  },
  {
   "cell_type": "code",
   "execution_count": null,
   "metadata": {},
   "outputs": [],
   "source": []
  }
 ],
 "metadata": {
  "kernelspec": {
   "display_name": "Python 3",
   "language": "python",
   "name": "python3"
  },
  "language_info": {
   "codemirror_mode": {
    "name": "ipython",
    "version": 3
   },
   "file_extension": ".py",
   "mimetype": "text/x-python",
   "name": "python",
   "nbconvert_exporter": "python",
   "pygments_lexer": "ipython3",
   "version": "3.8.3"
  }
 },
 "nbformat": 4,
 "nbformat_minor": 4
}
