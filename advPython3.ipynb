{
 "cells": [
  {
   "cell_type": "code",
   "execution_count": null,
   "metadata": {},
   "outputs": [],
   "source": [
    "import numpy as np\n",
    "import matplotlib.pyplot as plt #imports core plotting interface"
   ]
  },
  {
   "cell_type": "code",
   "execution_count": null,
   "metadata": {},
   "outputs": [],
   "source": [
    "#very simple plotting example\n",
    "plt.plot([1, 2, 3, 4], [1, 4, 9, 16]) #no specification will just give a straight continuous line\n",
    "plt.ylabel('some numbers')\n",
    "plt.show()"
   ]
  },
  {
   "cell_type": "code",
   "execution_count": null,
   "metadata": {},
   "outputs": [],
   "source": [
    "#for every x and y arguments in plt.plot, there is another argument for the formatting of the plot\n",
    "plt.plot([1, 2, 3, 4], [1, 4, 9, 16], 'ro')\n",
    "plt.axis([0, 6, 0, 20]) #set the lengths of the axes\n",
    "plt.show()"
   ]
  },
  {
   "cell_type": "code",
   "execution_count": null,
   "metadata": {},
   "outputs": [],
   "source": [
    "# evenly sampled time at 200ms intervals\n",
    "t = np.arange(0., 5., 0.2)\n",
    "plt.figure(figsize=(8,6))\n",
    "\n",
    "# red dashes, blue squares and green triangles\n",
    "plt.plot(t, t, 'r--', t, t**2, 'bs', t, t**3, 'g^')\n",
    "plt.show()"
   ]
  },
  {
   "cell_type": "code",
   "execution_count": null,
   "metadata": {},
   "outputs": [],
   "source": [
    "names = ['group_a', 'group_b', 'group_c']\n",
    "values = [1, 10, 100]\n",
    "\n",
    "plt.figure(figsize=(9, 3))\n",
    "\n",
    "plt.subplot(1,3,1)\n",
    "plt.bar(names, values)\n",
    "plt.subplot(1,3,2)\n",
    "plt.scatter(names, values)\n",
    "plt.subplot(1,3,3)\n",
    "plt.plot(names, values)\n",
    "plt.suptitle('Categorical Plotting')\n",
    "plt.show()"
   ]
  },
  {
   "cell_type": "code",
   "execution_count": null,
   "metadata": {},
   "outputs": [],
   "source": [
    "#import numpy functions and types\n",
    "from pylab import *\n",
    "x = arange(1,10,0.5)\n",
    "xsquare = x**2\n",
    "xcube = x**3\n",
    "xsquareroot = x**0.5\n",
    "#open figure 1\n",
    "figure(1)\n",
    "#basic plot\n",
    "plot(x,xsquare)\n",
    "#add a label to the x axis\n",
    "xlabel('abscissa')\n",
    "#add a label to the y axis\n",
    "ylabel('ordinate')\n",
    "#add a title\n",
    "title('A practice plot.')\n",
    "#save the figure to the current diretory as a png file\n",
    "#savefig('plot_1.png')\n",
    "#open a second figure\n",
    "figure(2)\n",
    "#do two plots:\n",
    "#one with red circles with no line joining them\n",
    "#and another with green plus signs joined by a dashed curve\n",
    "plot(x, xsquare, 'ro', x, xcube,'g+--')\n",
    "#x and y labels, title\n",
    "xlabel('abscissa')\n",
    "ylabel('ordinate')\n",
    "title('More practice.')\n",
    "#add a legend\n",
    "legend(('squared', 'cubed'))\n",
    "#save the figure\n",
    "#savefig('plot_2.png')\n",
    "figure(3)\n",
    "#use the subplot function to generate multiple panels within the same plotting window\n",
    "subplot(3,1,1)\n",
    "#plot black stars with dotted lines\n",
    "plot(x, xsquareroot,'k*:')\n",
    "title('square roots')\n",
    "subplot(3,1,2)\n",
    "#plot red right-pointing triangles with dashed lines\n",
    "plot(x, xsquare,'r>-')\n",
    "title('squares')\n",
    "subplot(3,1,3)\n",
    "#plot magenta hexagons with a solid line\n",
    "plot(x, xcube,'mh-')\n",
    "title('cubes')\n",
    "#savefig('plot_3.png')\n",
    "#show() should be the last line\n",
    "show()"
   ]
  },
  {
   "cell_type": "markdown",
   "metadata": {},
   "source": [
    "## File Input/Output (I/O)"
   ]
  },
  {
   "cell_type": "code",
   "execution_count": null,
   "metadata": {},
   "outputs": [],
   "source": [
    "# Creating a file \n",
    "file1 = open(\"myfile.txt\", \"w\") \n",
    "L = [\"Whale songs can be used to map out the ocean floor. \\n\", \"Dentistry is the oldest profession in the world. \\n\", \"The entire world's population could fit inside Los Angeles. \\n\"] \n",
    "    \n",
    "# Writing data to a file \n",
    "file1.write(\"Cool Factz: \\n\")  \n",
    "file1.writelines(L) \n",
    "file1.close()  # to change file access modes "
   ]
  },
  {
   "cell_type": "code",
   "execution_count": null,
   "metadata": {},
   "outputs": [],
   "source": [
    "file1 = open(\"myfile.txt\", \"r+\") \n",
    "    \n",
    "print(\"Output of Read function is \") \n",
    "print(file1.read()) \n",
    "print() \n",
    "    \n",
    "# seek(n) takes the file handle to the nth \n",
    "# bite from the beginning.  \n",
    "file1.seek(0) \n",
    "    \n",
    "print(\"Output of Readline function is \") \n",
    "print(file1.readline()) \n",
    "print() \n",
    "    \n",
    "file1.seek(0) \n",
    "    \n",
    "# To show difference between read and readline  \n",
    "print(\"Output of Read(9) function is \") \n",
    "print(file1.read(9)) \n",
    "print() \n",
    "    \n",
    "file1.seek(0) \n",
    "    \n",
    "print(\"Output of Readline(9) function is \") \n",
    "print(file1.readline(9)) \n",
    "print() \n",
    "    \n",
    "file1.seek(0) \n",
    "    \n",
    "# readlines function  \n",
    "print(\"Output of Readlines function is \") \n",
    "print(file1.readlines()) \n",
    "print() \n",
    "file1.close() "
   ]
  },
  {
   "cell_type": "code",
   "execution_count": null,
   "metadata": {},
   "outputs": [],
   "source": [
    "hr = pd.read_csv(\"HR_Diagram.csv\")\n",
    "print(hr.columns)\n",
    "hr"
   ]
  },
  {
   "cell_type": "code",
   "execution_count": null,
   "metadata": {},
   "outputs": [],
   "source": []
  },
  {
   "cell_type": "code",
   "execution_count": null,
   "metadata": {},
   "outputs": [],
   "source": []
  },
  {
   "cell_type": "code",
   "execution_count": null,
   "metadata": {},
   "outputs": [],
   "source": []
  },
  {
   "cell_type": "code",
   "execution_count": null,
   "metadata": {},
   "outputs": [],
   "source": []
  },
  {
   "cell_type": "code",
   "execution_count": null,
   "metadata": {},
   "outputs": [],
   "source": []
  },
  {
   "cell_type": "code",
   "execution_count": null,
   "metadata": {},
   "outputs": [],
   "source": []
  }
 ],
 "metadata": {
  "kernelspec": {
   "display_name": "Python 3",
   "language": "python",
   "name": "python3"
  },
  "language_info": {
   "codemirror_mode": {
    "name": "ipython",
    "version": 3
   },
   "file_extension": ".py",
   "mimetype": "text/x-python",
   "name": "python",
   "nbconvert_exporter": "python",
   "pygments_lexer": "ipython3",
   "version": "3.8.3"
  }
 },
 "nbformat": 4,
 "nbformat_minor": 4
}
