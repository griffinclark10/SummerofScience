{
 "cells": [
  {
   "cell_type": "code",
   "execution_count": 2,
   "metadata": {},
   "outputs": [
    {
     "name": "stdout",
     "output_type": "stream",
     "text": [
      "93648.047\n"
     ]
    }
   ],
   "source": [
    "#Use numpy to find the value of pi to the 10th power with 3 decimal places\n",
    "import numpy as np\n",
    "pi10 = round(np.pi**10, 3)\n",
    "print(pi10)"
   ]
  },
  {
   "cell_type": "code",
   "execution_count": null,
   "metadata": {},
   "outputs": [],
   "source": [
    "#Write a fucntion that prompts the user to input the lengths of two sides of a triangle and the angle \n",
    "#between them (in degrees). Print out the area of this triangle\n",
    "def area(side1, side2, angle):\n",
    "    return side1*side2*np.sin(angle)\n",
    "\n",
    "area1 = area(10, 20, np.pi/3)\n",
    "print(\"the area of the triangle is\", round(area1,1))"
   ]
  },
  {
   "cell_type": "code",
   "execution_count": null,
   "metadata": {},
   "outputs": [],
   "source": [
    "#Write a function that counts down from an input number using recursion\n",
    "def countDown(a):\n",
    "    print(a)\n",
    "    if a == 0:\n",
    "        return\n",
    "    else:\n",
    "        countDown(a-1)\n",
    "\n",
    "countDown(5)"
   ]
  },
  {
   "cell_type": "code",
   "execution_count": null,
   "metadata": {},
   "outputs": [],
   "source": [
    "#Write a function that takes in a positive integer, if this number is even, print out its square. \n",
    "#If it is odd, print out its cube\n",
    "def evenOdd(a):\n",
    "    if a%2 == 0:\n",
    "        return(a**2)\n",
    "    else:\n",
    "        return (a**3)\n",
    "    \n",
    "evenOdd(4)"
   ]
  },
  {
   "cell_type": "code",
   "execution_count": 3,
   "metadata": {},
   "outputs": [
    {
     "name": "stdout",
     "output_type": "stream",
     "text": [
      "13.6 is odd\n",
      "13.6 is smaller than 100\n",
      "13.6 is non-zero\n",
      "13.6 is positive\n",
      "sin(a) =  0.86\n",
      "cos(a) =  0.51\n"
     ]
    }
   ],
   "source": [
    "#Take an inputted number and make a program that will print out whether it is odd/even, \n",
    "#bigger/less than 100, zero/non-zero, negative/positive, and print the sin() & cos() of that number. \n",
    "def numbers(a):\n",
    "    if a % 2 == 0:\n",
    "        print(a, \"is even\")\n",
    "    else:\n",
    "        print(a, \"is odd\")\n",
    "    if a>100:\n",
    "        print(a, \"is bigger than 100\")\n",
    "    elif a == 100:\n",
    "        print(a, \"is equal to 100\")\n",
    "    else:\n",
    "        print(a, \"is smaller than 100\")\n",
    "    if a == 0:\n",
    "        print(a, \"is equal to zero\")\n",
    "    else:\n",
    "        print(a, \"is non-zero\")\n",
    "    if a>0:\n",
    "        print(a, \"is positive\")\n",
    "    else:\n",
    "        print(a,\"is negative\")\n",
    "    print(\"sin(a) = \", round(np.sin(a),2))\n",
    "    print(\"cos(a) = \", round(np.cos(a),2))\n",
    "\n",
    "numbers(13.6)\n",
    "    "
   ]
  },
  {
   "cell_type": "code",
   "execution_count": null,
   "metadata": {},
   "outputs": [],
   "source": [
    "#Accept a list of 5 float numbers as an input from the user and then print the list\n",
    "floatNumbers = []\n",
    "\n",
    "for i in range(0, 5):\n",
    "    print(\"Enter number at location\", i, \":\")\n",
    "    item = float(input())\n",
    "    floatNumbers.append(item)\n",
    "    \n",
    "print(\"User List is \", floatNumbers)"
   ]
  },
  {
   "cell_type": "code",
   "execution_count": null,
   "metadata": {},
   "outputs": [],
   "source": [
    "\n",
    "print(\"Enter first number\")\n",
    "x = int(input())\n",
    "print(\"Enter second number\")\n",
    "y = int(input())\n",
    "#x,y = 10, 20 means x = 10 y = 20\n",
    "while y != 0:\n",
    "    x = y\n",
    "    y = x % y\n",
    "print(x)"
   ]
  },
  {
   "cell_type": "code",
   "execution_count": null,
   "metadata": {},
   "outputs": [],
   "source": []
  }
 ],
 "metadata": {
  "kernelspec": {
   "display_name": "Python 3",
   "language": "python",
   "name": "python3"
  },
  "language_info": {
   "codemirror_mode": {
    "name": "ipython",
    "version": 3
   },
   "file_extension": ".py",
   "mimetype": "text/x-python",
   "name": "python",
   "nbconvert_exporter": "python",
   "pygments_lexer": "ipython3",
   "version": "3.8.3"
  }
 },
 "nbformat": 4,
 "nbformat_minor": 4
}
